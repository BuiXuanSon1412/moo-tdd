{
 "cells": [
  {
   "cell_type": "code",
   "execution_count": 1,
   "id": "cc5caed8",
   "metadata": {},
   "outputs": [],
   "source": [
    "import sys\n",
    "import os\n",
    "src_path = r\"./\"\n",
    "sys.path.append(src_path)"
   ]
  },
  {
   "cell_type": "code",
   "execution_count": 2,
   "id": "24d8323c",
   "metadata": {},
   "outputs": [],
   "source": [
    "from data import load_data\n",
    "from decode import decode\n",
    "from population import Individual"
   ]
  },
  {
   "cell_type": "code",
   "execution_count": 3,
   "id": "02a8f7c6",
   "metadata": {},
   "outputs": [
    {
     "name": "stdout",
     "output_type": "stream",
     "text": [
      "Chromosome layer 1: [1, 10, 3, 7, 4, 9, 5, 6, 11, 8, 2]\n",
      "Chromosome layer 2: [0, 0, 0, 1, 0, 0, 1, 0, 0, 1, 1]\n",
      "Truck routes : [[1], [3, 4], [6]]\n",
      "Drone routes: [[7, 5], [8, 2]]\n",
      "Truck capacity constraint satisfied\n",
      "Drone capacity constraint satisfied\n",
      "3 4\n"
     ]
    },
    {
     "ename": "TypeError",
     "evalue": "unsupported operand type(s) for +: 'NoneType' and 'float'",
     "output_type": "error",
     "traceback": [
      "\u001b[31m---------------------------------------------------------------------------\u001b[39m",
      "\u001b[31mTypeError\u001b[39m                                 Traceback (most recent call last)",
      "\u001b[36mCell\u001b[39m\u001b[36m \u001b[39m\u001b[32mIn[3]\u001b[39m\u001b[32m, line 8\u001b[39m\n\u001b[32m      3\u001b[39m             \u001b[38;5;66;03m#  0   1  2  3  4  5  6  7   8  9 10 \u001b[39;00m\n\u001b[32m      4\u001b[39m chromosome = [[\u001b[32m1\u001b[39m, \u001b[32m10\u001b[39m, \u001b[32m3\u001b[39m, \u001b[32m7\u001b[39m, \u001b[32m4\u001b[39m, \u001b[32m9\u001b[39m, \u001b[32m5\u001b[39m, \u001b[32m6\u001b[39m, \u001b[32m11\u001b[39m, \u001b[32m8\u001b[39m, \u001b[32m2\u001b[39m],\n\u001b[32m      5\u001b[39m               [\u001b[32m0\u001b[39m,  \u001b[32m0\u001b[39m, \u001b[32m0\u001b[39m, \u001b[32m1\u001b[39m, \u001b[32m0\u001b[39m, \u001b[32m0\u001b[39m, \u001b[32m1\u001b[39m, \u001b[32m0\u001b[39m,  \u001b[32m0\u001b[39m, \u001b[32m1\u001b[39m, \u001b[32m1\u001b[39m]]\n\u001b[32m----> \u001b[39m\u001b[32m8\u001b[39m truck_sols, drone_sols = \u001b[43mdecode\u001b[49m\u001b[43m(\u001b[49m\u001b[43mIndividual\u001b[49m\u001b[43m(\u001b[49m\u001b[43mchromosome\u001b[49m\u001b[43m=\u001b[49m\u001b[43mchromosome\u001b[49m\u001b[43m)\u001b[49m\u001b[43m,\u001b[49m\u001b[43m \u001b[49m\u001b[43mproblem\u001b[49m\u001b[43m)\u001b[49m\n",
      "\u001b[36mFile \u001b[39m\u001b[32m~/thesis/moo-tdd/decode.py:559\u001b[39m, in \u001b[36mdecode\u001b[39m\u001b[34m(individual, problem)\u001b[39m\n\u001b[32m    557\u001b[39m \u001b[38;5;28;01mif\u001b[39;00m chromosome \u001b[38;5;129;01mis\u001b[39;00m \u001b[38;5;28;01mNone\u001b[39;00m:\n\u001b[32m    558\u001b[39m     \u001b[38;5;28;01mreturn\u001b[39;00m \u001b[38;5;28;01mNone\u001b[39;00m\n\u001b[32m--> \u001b[39m\u001b[32m559\u001b[39m truck_routes, drone_triplists = \u001b[43mrelaxed_repair\u001b[49m\u001b[43m(\u001b[49m\u001b[43mchromosome\u001b[49m\u001b[43m,\u001b[49m\u001b[43m \u001b[49m\u001b[43mproblem\u001b[49m\u001b[43m)\u001b[49m\n\u001b[32m    561\u001b[39m truck_routes, drone_triplists, truck_arrival, truck_depart, drone_arrival, drone_depart = schedule(\n\u001b[32m    562\u001b[39m     chromosome, truck_routes, drone_triplists, problem\n\u001b[32m    563\u001b[39m )\n\u001b[32m    564\u001b[39m \u001b[38;5;28;01mif\u001b[39;00m truck_routes:\n",
      "\u001b[36mFile \u001b[39m\u001b[32m~/thesis/moo-tdd/decode.py:264\u001b[39m, in \u001b[36mrelaxed_repair\u001b[39m\u001b[34m(chromosome, problem)\u001b[39m\n\u001b[32m    260\u001b[39m opt_lch_cust, opt_ld_cust, opt_arrive, opt_leave = \u001b[38;5;28;01mNone\u001b[39;00m, \u001b[38;5;28;01mNone\u001b[39;00m, \u001b[38;5;28;01mNone\u001b[39;00m, \u001b[38;5;28;01mNone\u001b[39;00m\n\u001b[32m    262\u001b[39m \u001b[38;5;28;01mwhile\u001b[39;00m drone_route:\n\u001b[32m--> \u001b[39m\u001b[32m264\u001b[39m     tmp_lch_cust, tmp_ld_cust, tmp_arrive, tmp_leave = \u001b[43mopt_pair_cust\u001b[49m\u001b[43m(\u001b[49m\u001b[43mtrip\u001b[49m\u001b[43m \u001b[49m\u001b[43m+\u001b[49m\u001b[43m \u001b[49m\u001b[43m[\u001b[49m\u001b[43mdrone_route\u001b[49m\u001b[43m[\u001b[49m\u001b[32;43m0\u001b[39;49m\u001b[43m]\u001b[49m\u001b[43m]\u001b[49m\u001b[43m)\u001b[49m\n\u001b[32m    265\u001b[39m     \u001b[38;5;28;01mif\u001b[39;00m tmp_lch_cust \u001b[38;5;129;01mis\u001b[39;00m \u001b[38;5;28;01mNone\u001b[39;00m:\n\u001b[32m    266\u001b[39m         \u001b[38;5;28;01mif\u001b[39;00m opt_lch_cust \u001b[38;5;129;01mis\u001b[39;00m \u001b[38;5;28;01mNone\u001b[39;00m:\n",
      "\u001b[36mFile \u001b[39m\u001b[32m~/thesis/moo-tdd/decode.py:225\u001b[39m, in \u001b[36mrelaxed_repair.<locals>.opt_pair_cust\u001b[39m\u001b[34m(trip)\u001b[39m\n\u001b[32m    223\u001b[39m total_energy = total_energy + problem.energy_consumption_rate*(problem.weight_of_drone + total_goods)*(problem.distance_matrix_drone[u][u_next]/problem.speed_of_drone + problem.launch_time)\n\u001b[32m    224\u001b[39m \u001b[38;5;28;01mif\u001b[39;00m received[i+\u001b[32m1\u001b[39m] != \u001b[32m0\u001b[39m:\n\u001b[32m--> \u001b[39m\u001b[32m225\u001b[39m     arrive[i+\u001b[32m1\u001b[39m] = \u001b[38;5;28mmax\u001b[39m(problem.customer_list[u_next].arrive_time, \u001b[43mleave\u001b[49m\u001b[43m[\u001b[49m\u001b[43mi\u001b[49m\u001b[43m]\u001b[49m\u001b[43m \u001b[49m\u001b[43m+\u001b[49m\u001b[43m \u001b[49m\u001b[43mtime_by_drone\u001b[49m\u001b[43m[\u001b[49m\u001b[43mu\u001b[49m\u001b[43m]\u001b[49m\u001b[43m[\u001b[49m\u001b[43mu_next\u001b[49m\u001b[43m]\u001b[49m)\n\u001b[32m    226\u001b[39m     wait_time = \u001b[38;5;28mmax\u001b[39m(problem.customer_list[u_next].arrive_time - arrive[i+\u001b[32m1\u001b[39m], \u001b[32m0\u001b[39m)\n\u001b[32m    227\u001b[39m     leave[i+\u001b[32m1\u001b[39m] = arrive[i+\u001b[32m1\u001b[39m] + problem.customer_list[u_next].service_time + wait_time\n",
      "\u001b[31mTypeError\u001b[39m: unsupported operand type(s) for +: 'NoneType' and 'float'"
     ]
    }
   ],
   "source": [
    "problem = load_data(r\"data/100customers/c101.txt\", 8, 2, 3)\n",
    "\n",
    "            #  0   1  2  3  4  5  6  7   8  9 10 \n",
    "chromosome = [[1, 10, 3, 7, 4, 9, 5, 6, 11, 8, 2],\n",
    "              [0,  0, 0, 1, 0, 0, 1, 0,  0, 1, 1]]\n",
    "\n",
    "\n",
    "truck_sols, drone_sols = decode(Individual(chromosome=chromosome), problem)"
   ]
  },
  {
   "cell_type": "code",
   "execution_count": null,
   "id": "e9bf7cd9",
   "metadata": {},
   "outputs": [
    {
     "name": "stdout",
     "output_type": "stream",
     "text": [
      "Original:\n",
      "[[1, 10, 3, 7, 4, 9, 5, 6, 11, 8, 2], [0, 0, 0, 1, 0, 0, 1, 0, 0, 1, 1]]\n",
      "[[2, 1, 4, 10, 9, 5, 6, 3, 11, 7, 8], [1, 0, 0, 0, 1, 0, 1, 0, 1, 0, 0]]\n",
      "after pmx operator:\n",
      "[[2, 1, 3, 7, 4, 9, 6, 5, 11, 10, 8], [0, 0, 0, 1, 0, 0, 1, 0, 1, 0, 0]]\n",
      "[[1, 7, 4, 10, 9, 5, 3, 6, 11, 8, 2], [1, 0, 0, 0, 1, 0, 1, 0, 0, 1, 1]]\n",
      "after ox operator:\n",
      "[[3, 11, 8, 7, 4, 9, 2, 1, 10, 5, 6], [0, 0, 0, 1, 0, 0, 1, 0, 1, 0, 0]]\n",
      "[[11, 8, 2, 10, 9, 5, 1, 3, 7, 4, 6], [1, 0, 0, 0, 1, 0, 1, 0, 0, 1, 1]]\n",
      "after cx operator:\n",
      "[[1, 10, 3, 7, 4, 9, 5, 6, 11, 8, 2], [0, 0, 0, 1, 0, 0, 1, 0, 0, 1, 0]]\n",
      "[[2, 1, 4, 10, 9, 5, 6, 3, 11, 7, 8], [1, 0, 0, 0, 1, 0, 1, 0, 1, 0, 1]]\n"
     ]
    }
   ],
   "source": [
    "chromosome1 = [[1, 10, 3, 7, 4, 9, 5, 6, 11, 8, 2],\n",
    "              [0,  0, 0, 1, 0, 0, 1, 0,  0, 1, 1]]\n",
    "individual1 = Individual(chromosome=chromosome1)\n",
    "chromosome2 = [[2, 1, 4, 10, 9, 5, 6, 3, 11, 7, 8],\n",
    "               [1, 0, 0 , 0, 1, 0, 1, 0, 1, 0, 0]]\n",
    "individual2 = Individual(chromosome=chromosome2)\n",
    "\n",
    "print(\"Original:\")\n",
    "print(chromosome1)\n",
    "print(chromosome2)\n",
    "\n",
    "from perm_operator import pmx_crossover, ox_crossover, cx_crossover\n",
    "\n",
    "child1, child2 = pmx_crossover(individual1, individual2)\n",
    "print(\"after pmx operator:\")\n",
    "print(child1.chromosome)\n",
    "print(child2.chromosome)\n",
    "\n",
    "child1, child2 = ox_crossover(individual1, individual2)\n",
    "print(\"after ox operator:\")\n",
    "print(child1.chromosome)\n",
    "print(child2.chromosome)\n",
    "\n",
    "child1, child2 = cx_crossover(individual1, individual2)\n",
    "print(\"after cx operator:\")\n",
    "print(child1.chromosome)\n",
    "print(child2.chromosome)"
   ]
  }
 ],
 "metadata": {
  "kernelspec": {
   "display_name": ".env",
   "language": "python",
   "name": "python3"
  },
  "language_info": {
   "codemirror_mode": {
    "name": "ipython",
    "version": 3
   },
   "file_extension": ".py",
   "mimetype": "text/x-python",
   "name": "python",
   "nbconvert_exporter": "python",
   "pygments_lexer": "ipython3",
   "version": "3.11.2"
  }
 },
 "nbformat": 4,
 "nbformat_minor": 5
}
