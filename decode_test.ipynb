{
 "cells": [
  {
   "cell_type": "code",
   "execution_count": 4,
   "id": "cc5caed8",
   "metadata": {},
   "outputs": [],
   "source": [
    "import sys\n",
    "import os\n",
    "src_path = r\"./\"\n",
    "sys.path.append(src_path)"
   ]
  },
  {
   "cell_type": "code",
   "execution_count": 5,
   "id": "24d8323c",
   "metadata": {},
   "outputs": [],
   "source": [
    "from data import load_data\n",
    "from decode import decode\n",
    "from population import Individual"
   ]
  },
  {
   "cell_type": "code",
   "execution_count": null,
   "id": "02a8f7c6",
   "metadata": {},
   "outputs": [
    {
     "name": "stdout",
     "output_type": "stream",
     "text": [
      "Chromosome layer 1: [1, 10, 3, 7, 4, 9, 5, 6, 11, 8, 2]\n",
      "Chromosome layer 2: [0, 0, 0, 1, 0, 0, 1, 0, 0, 1, 1]\n",
      "Truck routes : [[1], [3, 4], [6]]\n",
      "Drone routes: [[7, 5], [8, 2]]\n",
      "Truck capacity constraint satisfied\n",
      "Drone capacity constraint satisfied\n",
      "[[1], [3, 4], [6]]\n",
      "[[], []]\n"
     ]
    },
    {
     "ename": "IndexError",
     "evalue": "list index out of range",
     "output_type": "error",
     "traceback": [
      "\u001b[31m---------------------------------------------------------------------------\u001b[39m",
      "\u001b[31mIndexError\u001b[39m                                Traceback (most recent call last)",
      "\u001b[36mCell\u001b[39m\u001b[36m \u001b[39m\u001b[32mIn[3]\u001b[39m\u001b[32m, line 6\u001b[39m\n\u001b[32m      3\u001b[39m             \u001b[38;5;66;03m#  0   1  2  3  4  5  6  7   8  9 10 \u001b[39;00m\n\u001b[32m      4\u001b[39m chromosome = [[\u001b[32m1\u001b[39m, \u001b[32m10\u001b[39m, \u001b[32m3\u001b[39m, \u001b[32m7\u001b[39m, \u001b[32m4\u001b[39m, \u001b[32m9\u001b[39m, \u001b[32m5\u001b[39m, \u001b[32m6\u001b[39m, \u001b[32m11\u001b[39m, \u001b[32m8\u001b[39m, \u001b[32m2\u001b[39m],\n\u001b[32m      5\u001b[39m               [\u001b[32m0\u001b[39m,  \u001b[32m0\u001b[39m, \u001b[32m0\u001b[39m, \u001b[32m1\u001b[39m, \u001b[32m0\u001b[39m, \u001b[32m0\u001b[39m, \u001b[32m1\u001b[39m, \u001b[32m0\u001b[39m,  \u001b[32m0\u001b[39m, \u001b[32m1\u001b[39m, \u001b[32m1\u001b[39m]]\n\u001b[32m----> \u001b[39m\u001b[32m6\u001b[39m truck_sols, drone_sols = \u001b[43mdecode\u001b[49m\u001b[43m(\u001b[49m\u001b[43mIndividual\u001b[49m\u001b[43m(\u001b[49m\u001b[43mchromosome\u001b[49m\u001b[43m=\u001b[49m\u001b[43mchromosome\u001b[49m\u001b[43m)\u001b[49m\u001b[43m,\u001b[49m\u001b[43m \u001b[49m\u001b[43mproblem\u001b[49m\u001b[43m)\u001b[49m\n",
      "\u001b[36mFile \u001b[39m\u001b[32m~/thesis/moo-tdd/decode.py:504\u001b[39m, in \u001b[36mdecode\u001b[39m\u001b[34m(individual, problem)\u001b[39m\n\u001b[32m    501\u001b[39m \u001b[38;5;28mprint\u001b[39m(truck_routes)\n\u001b[32m    502\u001b[39m \u001b[38;5;28mprint\u001b[39m(drone_triplists)\n\u001b[32m--> \u001b[39m\u001b[32m504\u001b[39m truck_sols, drone_sols = \u001b[43mschedule\u001b[49m\u001b[43m(\u001b[49m\n\u001b[32m    505\u001b[39m \u001b[43m    \u001b[49m\u001b[43mchromosome\u001b[49m\u001b[43m,\u001b[49m\u001b[43m \u001b[49m\u001b[43mtruck_routes\u001b[49m\u001b[43m,\u001b[49m\u001b[43m \u001b[49m\u001b[43mdrone_triplists\u001b[49m\u001b[43m,\u001b[49m\u001b[43m \u001b[49m\u001b[43mproblem\u001b[49m\n\u001b[32m    506\u001b[39m \u001b[43m\u001b[49m\u001b[43m)\u001b[49m\n\u001b[32m    507\u001b[39m \u001b[38;5;28;01mif\u001b[39;00m truck_sols \u001b[38;5;129;01mor\u001b[39;00m drone_sols:\n\u001b[32m    508\u001b[39m     \u001b[38;5;28;01mreturn\u001b[39;00m truck_sols, drone_sols\n",
      "\u001b[36mFile \u001b[39m\u001b[32m~/thesis/moo-tdd/decode.py:320\u001b[39m, in \u001b[36mschedule\u001b[39m\u001b[34m(chromosome, truck_routes, drone_triplists, problem)\u001b[39m\n\u001b[32m    316\u001b[39m arrived[\u001b[32m0\u001b[39m] = \u001b[38;5;28;01mTrue\u001b[39;00m\n\u001b[32m    318\u001b[39m \u001b[38;5;66;03m# the iteration will be ended when all the trucks return to depot\u001b[39;00m\n\u001b[32m    319\u001b[39m \u001b[38;5;28;01mwhile\u001b[39;00m \u001b[38;5;129;01mnot\u001b[39;00m \u001b[38;5;28mall\u001b[39m(\n\u001b[32m--> \u001b[39m\u001b[32m320\u001b[39m     \u001b[43m[\u001b[49m\n\u001b[32m    321\u001b[39m \u001b[43m        \u001b[49m\u001b[43mtruck_route\u001b[49m\u001b[43m[\u001b[49m\u001b[43mtruck_route_idx\u001b[49m\u001b[43m[\u001b[49m\u001b[43mtruck_id\u001b[49m\u001b[43m]\u001b[49m\u001b[43m]\u001b[49m\u001b[43m \u001b[49m\u001b[43m==\u001b[49m\u001b[43m \u001b[49m\u001b[43mreturn_depot\u001b[49m\n\u001b[32m    322\u001b[39m \u001b[43m        \u001b[49m\u001b[38;5;28;43;01mfor\u001b[39;49;00m\u001b[43m \u001b[49m\u001b[43mtruck_id\u001b[49m\u001b[43m,\u001b[49m\u001b[43m \u001b[49m\u001b[43mtruck_route\u001b[49m\u001b[43m \u001b[49m\u001b[38;5;129;43;01min\u001b[39;49;00m\u001b[43m \u001b[49m\u001b[38;5;28;43menumerate\u001b[39;49m\u001b[43m(\u001b[49m\u001b[43mtruck_routes\u001b[49m\u001b[43m)\u001b[49m\n\u001b[32m    323\u001b[39m \u001b[43m    \u001b[49m\u001b[43m]\u001b[49m\n\u001b[32m    324\u001b[39m ):\n\u001b[32m    325\u001b[39m     \u001b[38;5;66;03m# let each truck reaches the nearest landing customer on its route\u001b[39;00m\n\u001b[32m    326\u001b[39m     \u001b[38;5;28;01mfor\u001b[39;00m truck_id \u001b[38;5;129;01min\u001b[39;00m \u001b[38;5;28mrange\u001b[39m(problem.number_of_trucks):\n\u001b[32m    327\u001b[39m         truck_route = truck_routes[truck_id]  \u001b[38;5;66;03m# route of current truck\u001b[39;00m\n",
      "\u001b[36mFile \u001b[39m\u001b[32m~/thesis/moo-tdd/decode.py:321\u001b[39m, in \u001b[36m<listcomp>\u001b[39m\u001b[34m(.0)\u001b[39m\n\u001b[32m    316\u001b[39m arrived[\u001b[32m0\u001b[39m] = \u001b[38;5;28;01mTrue\u001b[39;00m\n\u001b[32m    318\u001b[39m \u001b[38;5;66;03m# the iteration will be ended when all the trucks return to depot\u001b[39;00m\n\u001b[32m    319\u001b[39m \u001b[38;5;28;01mwhile\u001b[39;00m \u001b[38;5;129;01mnot\u001b[39;00m \u001b[38;5;28mall\u001b[39m(\n\u001b[32m    320\u001b[39m     [\n\u001b[32m--> \u001b[39m\u001b[32m321\u001b[39m         truck_route[\u001b[43mtruck_route_idx\u001b[49m\u001b[43m[\u001b[49m\u001b[43mtruck_id\u001b[49m\u001b[43m]\u001b[49m] == return_depot\n\u001b[32m    322\u001b[39m         \u001b[38;5;28;01mfor\u001b[39;00m truck_id, truck_route \u001b[38;5;129;01min\u001b[39;00m \u001b[38;5;28menumerate\u001b[39m(truck_routes)\n\u001b[32m    323\u001b[39m     ]\n\u001b[32m    324\u001b[39m ):\n\u001b[32m    325\u001b[39m     \u001b[38;5;66;03m# let each truck reaches the nearest landing customer on its route\u001b[39;00m\n\u001b[32m    326\u001b[39m     \u001b[38;5;28;01mfor\u001b[39;00m truck_id \u001b[38;5;129;01min\u001b[39;00m \u001b[38;5;28mrange\u001b[39m(problem.number_of_trucks):\n\u001b[32m    327\u001b[39m         truck_route = truck_routes[truck_id]  \u001b[38;5;66;03m# route of current truck\u001b[39;00m\n",
      "\u001b[31mIndexError\u001b[39m: list index out of range"
     ]
    }
   ],
   "source": [
    "problem = load_data(r\"data/100customers/c101.txt\", 8, 2, 3)\n",
    "\n",
    "            #  0   1  2  3  4  5  6  7   8  9 10 \n",
    "chromosome = [[1, 10, 3, 7, 4, 9, 5, 6, 11, 8, 2],\n",
    "              [0,  0, 0, 1, 0, 0, 1, 0,  0, 1, 1]]\n",
    "\n",
    "\n",
    "truck_sols, drone_sols = decode(Individual(chromosome=chromosome), problem)"
   ]
  },
  {
   "cell_type": "code",
   "execution_count": 7,
   "id": "e9bf7cd9",
   "metadata": {},
   "outputs": [
    {
     "name": "stdout",
     "output_type": "stream",
     "text": [
      "[[2, 10, 3, 7, 9, 5, 6, 4, 11, 1, 8], [0, 0, 0, 0, 1, 0, 1, 0, 1, 0, 0]]\n",
      "[[7, 1, 4, 10, 3, 9, 5, 6, 11, 8, 2], [1, 0, 0, 1, 0, 0, 1, 0, 0, 1, 1]]\n",
      "[[8, 10, 3, 7, 4, 9, 5, 6, 11, 2, 1], [0, 0, 0, 1, 0, 0, 1, 0, 1, 0, 0]]\n",
      "[[2, 1, 4, 10, 9, 5, 6, 3, 11, 7, 8], [1, 0, 0, 0, 1, 0, 1, 0, 0, 1, 1]]\n",
      "[[1, 10, 3, 7, 4, 9, 5, 6, 11, 8, 2], [0, 0, 0, 1, 0, 0, 1, 0, 1, 0, 0]]\n",
      "[[2, 1, 4, 10, 9, 5, 6, 3, 11, 7, 8], [1, 0, 0, 0, 1, 0, 1, 0, 0, 1, 1]]\n"
     ]
    }
   ],
   "source": [
    "chromosome1 = [[1, 10, 3, 7, 4, 9, 5, 6, 11, 8, 2],\n",
    "              [0,  0, 0, 1, 0, 0, 1, 0,  0, 1, 1]]\n",
    "individual1 = Individual(chromosome=chromosome1)\n",
    "chromosome2 = [[2, 1, 4, 10, 9, 5, 6, 3, 11, 7, 8],\n",
    "               [1, 0, 0 , 0, 1, 0, 1, 0, 1, 0, 0]]\n",
    "individual2 = Individual(chromosome=chromosome2)\n",
    "\n",
    "from perm_operator import pmx_crossover, ox_crossover, cx_crossover\n",
    "\n",
    "child1, child2 = pmx_crossover(individual1, individual2)\n",
    "print(child1.chromosome)\n",
    "print(child2.chromosome)\n",
    "\n",
    "child1, child2 = ox_crossover(individual1, individual2)\n",
    "print(child1.chromosome)\n",
    "print(child2.chromosome)\n",
    "\n",
    "child1, child2 = cx_crossover(individual1, individual2)\n",
    "print(child1.chromosome)\n",
    "print(child2.chromosome)"
   ]
  }
 ],
 "metadata": {
  "kernelspec": {
   "display_name": ".env",
   "language": "python",
   "name": "python3"
  },
  "language_info": {
   "codemirror_mode": {
    "name": "ipython",
    "version": 3
   },
   "file_extension": ".py",
   "mimetype": "text/x-python",
   "name": "python",
   "nbconvert_exporter": "python",
   "pygments_lexer": "ipython3",
   "version": "3.11.2"
  }
 },
 "nbformat": 4,
 "nbformat_minor": 5
}
