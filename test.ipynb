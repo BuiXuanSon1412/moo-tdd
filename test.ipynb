{
 "cells": [
  {
   "cell_type": "code",
   "execution_count": 1,
   "id": "52f1dd2e",
   "metadata": {},
   "outputs": [
    {
     "name": "stdout",
     "output_type": "stream",
     "text": [
      "[PosixPath('data/100customers/c205.txt'), PosixPath('data/100customers/c202.txt'), PosixPath('data/100customers/c208.txt'), PosixPath('data/100customers/c201.txt'), PosixPath('data/100customers/c206.txt'), PosixPath('data/100customers/c207.txt'), PosixPath('data/100customers/c204.txt'), PosixPath('data/100customers/c203.txt')]\n",
      "[PosixPath('result/100customers/NSGAII/c205.json'), PosixPath('result/100customers/NSGAII/c202.json'), PosixPath('result/100customers/NSGAII/c208.json'), PosixPath('result/100customers/NSGAII/c201.json'), PosixPath('result/100customers/NSGAII/c206.json'), PosixPath('result/100customers/NSGAII/c207.json'), PosixPath('result/100customers/NSGAII/c204.json'), PosixPath('result/100customers/NSGAII/c203.json')]\n"
     ]
    }
   ],
   "source": [
    "from pathlib import Path\n",
    "\n",
    "data_folder = Path(\"data/100customers\")\n",
    "NSGAII_result_folder = Path(\"result/100customers/NSGAII\")\n",
    "\n",
    "# get all data files starting with 'c'\n",
    "data_files = list(data_folder.glob(\"c2*\"))\n",
    "\n",
    "print(data_files)\n",
    "# build the corresponding result file paths\n",
    "NSGAII_result_files = [\n",
    "    NSGAII_result_folder / (f.stem + \".json\")\n",
    "    for f in data_files\n",
    "]\n",
    "\n",
    "print(NSGAII_result_files)"
   ]
  },
  {
   "cell_type": "code",
   "execution_count": 3,
   "id": "121435c5",
   "metadata": {},
   "outputs": [],
   "source": [
    "processing_number = 1\n",
    "from utils import init_random\n",
    "from data import load_data\n",
    "\n",
    "pro_drone = 0.7\n",
    "pop_size = 100\n",
    "max_gen = 100\n",
    "crossover_rate = 0.8\n",
    "mutation_rate = 0.7\n",
    "indi_list = []\n",
    "number_customer = 100\n",
    "number_truck = 10\n",
    "number_drone = 15\n",
    "\n",
    "indi_lists = [[] for _ in range(len(data_files))]\n",
    "problems = [None for _ in range(len(data_files))]\n",
    "for idx, data_file in enumerate(data_files):\n",
    "    problems[idx] = load_data(data_file, number_customer, number_truck, number_drone)\n",
    "    for i in range(pop_size):\n",
    "        indi = init_random(problems[idx], pro_drone)\n",
    "        indi_lists[idx].append(indi)\n",
    "\n"
   ]
  },
  {
   "cell_type": "code",
   "execution_count": null,
   "id": "0e52e391",
   "metadata": {},
   "outputs": [],
   "source": [
    "from moo_algorithm.nsga_ii import run_nsga_ii\n",
    "import time\n",
    "import json\n",
    "from utils import crossover_PMX, mutation_flip, init_random, cal_fitness\n",
    "\n",
    "for idx, data_file in enumerate(data_files):\n",
    "    print(\"Run on file\", data_file)\n",
    "    problem = problems[idx]\n",
    "    indi_list = indi_lists[idx]\n",
    "    \n",
    "    nsgaii_start = time.time()\n",
    "    result_nsga_ii = run_nsga_ii(processing_number, problem, indi_list, pop_size, max_gen, crossover_PMX, mutation_flip, crossover_rate, mutation_rate, cal_fitness)\n",
    "    nsgaii_end = time.time()\n",
    "    nsgaii_result = {}\n",
    "    nsgaii_result['time'] = nsgaii_end - nsgaii_start\n",
    "    nsgaii_result['history'] = result_nsga_ii\n",
    "    nsgaii_path = NSGAII_result_files[idx]\n",
    "    Path(nsgaii_path).parent.mkdir(parents=True, exist_ok=True)\n",
    "    with open(nsgaii_path, 'a') as f:\n",
    "        json.dump(nsgaii_result, f)"
   ]
  },
  {
   "cell_type": "code",
   "execution_count": 4,
   "id": "2690f800",
   "metadata": {},
   "outputs": [
    {
     "name": "stdout",
     "output_type": "stream",
     "text": [
      "NSGA-III\n",
      "Generation 0: Done\n",
      "Generation 1: Done\n",
      "Generation 2: Done\n"
     ]
    },
    {
     "name": "stderr",
     "output_type": "stream",
     "text": [
      "Process ForkPoolWorker-4:\n",
      "Traceback (most recent call last):\n",
      "  File \"/usr/lib/python3.11/multiprocessing/process.py\", line 314, in _bootstrap\n",
      "    self.run()\n",
      "  File \"/usr/lib/python3.11/multiprocessing/process.py\", line 108, in run\n",
      "    self._target(*self._args, **self._kwargs)\n",
      "  File \"/usr/lib/python3.11/multiprocessing/pool.py\", line 125, in worker\n",
      "    result = (True, func(*args, **kwds))\n",
      "                    ^^^^^^^^^^^^^^^^^^^\n",
      "  File \"/usr/lib/python3.11/multiprocessing/pool.py\", line 51, in starmapstar\n",
      "    return list(itertools.starmap(args[0], args[1]))\n",
      "           ^^^^^^^^^^^^^^^^^^^^^^^^^^^^^^^^^^^^^^^^^\n",
      "  File \"/home/bxs/thesis/moo-tdd/utils.py\", line 38, in cal_fitness\n",
      "    truck_solutions, drone_solutions = find_solution(assigned_truck_customers, assigned_drone_customers, problem)\n",
      "                                       ^^^^^^^^^^^^^^^^^^^^^^^^^^^^^^^^^^^^^^^^^^^^^^^^^^^^^^^^^^^^^^^^^^^^^^^^^^\n",
      "  File \"/home/bxs/thesis/moo-tdd/decode_time_greedy.py\", line 376, in find_solution\n",
      "    if np.sum(truck_sol.recived_truck) + np.sum(truck_sol.recived_drone) + sum(best_recive_done) > problem.truck_capacity:\n",
      "       ^^^^^^^^^^^^^^^^^^^^^^^^^^^^^^^\n",
      "  File \"/home/bxs/thesis/moo-tdd/.env/lib/python3.11/site-packages/numpy/_core/fromnumeric.py\", line 2466, in sum\n",
      "    return _wrapreduction(\n",
      "           ^^^^^^^^^^^^^^^\n",
      "  File \"/home/bxs/thesis/moo-tdd/.env/lib/python3.11/site-packages/numpy/_core/fromnumeric.py\", line 86, in _wrapreduction\n",
      "    return ufunc.reduce(obj, axis, dtype, out, **passkwargs)\n",
      "           ^^^^^^^^^^^^^^^^^^^^^^^^^^^^^^^^^^^^^^^^^^^^^^^^^\n",
      "KeyboardInterrupt\n"
     ]
    },
    {
     "ename": "KeyboardInterrupt",
     "evalue": "",
     "output_type": "error",
     "traceback": [
      "\u001b[31m---------------------------------------------------------------------------\u001b[39m",
      "\u001b[31mKeyboardInterrupt\u001b[39m                         Traceback (most recent call last)",
      "\u001b[36mCell\u001b[39m\u001b[36m \u001b[39m\u001b[32mIn[4]\u001b[39m\u001b[32m, line 13\u001b[39m\n\u001b[32m     11\u001b[39m indi_list = indi_lists[idx]\n\u001b[32m     12\u001b[39m nsgaiii_start = time.time()\n\u001b[32m---> \u001b[39m\u001b[32m13\u001b[39m nsgaiii_history = \u001b[43mrun_nsga_iii\u001b[49m\u001b[43m(\u001b[49m\u001b[43mprocessing_number\u001b[49m\u001b[43m,\u001b[49m\u001b[43m \u001b[49m\u001b[43mproblem\u001b[49m\u001b[43m,\u001b[49m\u001b[43m \u001b[49m\u001b[43mindi_list\u001b[49m\u001b[43m,\u001b[49m\u001b[43m \u001b[49m\u001b[43mpop_size\u001b[49m\u001b[43m,\u001b[49m\u001b[43m \u001b[49m\u001b[43mmax_gen\u001b[49m\u001b[43m,\u001b[49m\u001b[43m \u001b[49m\u001b[43mcrossover_PMX\u001b[49m\u001b[43m,\u001b[49m\u001b[43m \u001b[49m\u001b[43mmutation_flip\u001b[49m\u001b[43m,\u001b[49m\u001b[43m \u001b[49m\u001b[43mcrossover_rate\u001b[49m\u001b[43m,\u001b[49m\u001b[43m \u001b[49m\u001b[43mmutation_rate\u001b[49m\u001b[43m,\u001b[49m\u001b[43m \u001b[49m\u001b[43mcal_fitness\u001b[49m\u001b[43m)\u001b[49m\n\u001b[32m     14\u001b[39m nsgaiii_end = time.time()\n\u001b[32m     15\u001b[39m nsgaiii_result = {}\n",
      "\u001b[36mFile \u001b[39m\u001b[32m~/thesis/moo-tdd/moo_algorithm/nsga_iii.py:567\u001b[39m, in \u001b[36mrun_nsga_iii\u001b[39m\u001b[34m(processing_number, problem, indi_list, pop_size, max_gen, crossover_operator, mutation_operator, crossover_rate, mutation_rate, cal_fitness)\u001b[39m\n\u001b[32m    563\u001b[39m \u001b[38;5;28;01mfor\u001b[39;00m individual \u001b[38;5;129;01min\u001b[39;00m offspring:\n\u001b[32m    564\u001b[39m     arg.append((problem, individual))\n\u001b[32m--> \u001b[39m\u001b[32m567\u001b[39m result = \u001b[43mpool\u001b[49m\u001b[43m.\u001b[49m\u001b[43mstarmap\u001b[49m\u001b[43m(\u001b[49m\u001b[43mcal_fitness\u001b[49m\u001b[43m,\u001b[49m\u001b[43m \u001b[49m\u001b[43marg\u001b[49m\u001b[43m,\u001b[49m\u001b[43m \u001b[49m\u001b[43mchunksize\u001b[49m\u001b[43m=\u001b[49m\u001b[32;43m10\u001b[39;49m\u001b[43m)\u001b[49m\n\u001b[32m    568\u001b[39m \u001b[38;5;28;01mfor\u001b[39;00m individual, fitness \u001b[38;5;129;01min\u001b[39;00m \u001b[38;5;28mzip\u001b[39m(offspring, result):\n\u001b[32m    569\u001b[39m     individual.chromosome = fitness[\u001b[32m0\u001b[39m]\n",
      "\u001b[36mFile \u001b[39m\u001b[32m/usr/lib/python3.11/multiprocessing/pool.py:375\u001b[39m, in \u001b[36mPool.starmap\u001b[39m\u001b[34m(self, func, iterable, chunksize)\u001b[39m\n\u001b[32m    369\u001b[39m \u001b[38;5;28;01mdef\u001b[39;00m\u001b[38;5;250m \u001b[39m\u001b[34mstarmap\u001b[39m(\u001b[38;5;28mself\u001b[39m, func, iterable, chunksize=\u001b[38;5;28;01mNone\u001b[39;00m):\n\u001b[32m    370\u001b[39m \u001b[38;5;250m    \u001b[39m\u001b[33;03m'''\u001b[39;00m\n\u001b[32m    371\u001b[39m \u001b[33;03m    Like `map()` method but the elements of the `iterable` are expected to\u001b[39;00m\n\u001b[32m    372\u001b[39m \u001b[33;03m    be iterables as well and will be unpacked as arguments. Hence\u001b[39;00m\n\u001b[32m    373\u001b[39m \u001b[33;03m    `func` and (a, b) becomes func(a, b).\u001b[39;00m\n\u001b[32m    374\u001b[39m \u001b[33;03m    '''\u001b[39;00m\n\u001b[32m--> \u001b[39m\u001b[32m375\u001b[39m     \u001b[38;5;28;01mreturn\u001b[39;00m \u001b[38;5;28;43mself\u001b[39;49m\u001b[43m.\u001b[49m\u001b[43m_map_async\u001b[49m\u001b[43m(\u001b[49m\u001b[43mfunc\u001b[49m\u001b[43m,\u001b[49m\u001b[43m \u001b[49m\u001b[43miterable\u001b[49m\u001b[43m,\u001b[49m\u001b[43m \u001b[49m\u001b[43mstarmapstar\u001b[49m\u001b[43m,\u001b[49m\u001b[43m \u001b[49m\u001b[43mchunksize\u001b[49m\u001b[43m)\u001b[49m\u001b[43m.\u001b[49m\u001b[43mget\u001b[49m\u001b[43m(\u001b[49m\u001b[43m)\u001b[49m\n",
      "\u001b[36mFile \u001b[39m\u001b[32m/usr/lib/python3.11/multiprocessing/pool.py:768\u001b[39m, in \u001b[36mApplyResult.get\u001b[39m\u001b[34m(self, timeout)\u001b[39m\n\u001b[32m    767\u001b[39m \u001b[38;5;28;01mdef\u001b[39;00m\u001b[38;5;250m \u001b[39m\u001b[34mget\u001b[39m(\u001b[38;5;28mself\u001b[39m, timeout=\u001b[38;5;28;01mNone\u001b[39;00m):\n\u001b[32m--> \u001b[39m\u001b[32m768\u001b[39m     \u001b[38;5;28;43mself\u001b[39;49m\u001b[43m.\u001b[49m\u001b[43mwait\u001b[49m\u001b[43m(\u001b[49m\u001b[43mtimeout\u001b[49m\u001b[43m)\u001b[49m\n\u001b[32m    769\u001b[39m     \u001b[38;5;28;01mif\u001b[39;00m \u001b[38;5;129;01mnot\u001b[39;00m \u001b[38;5;28mself\u001b[39m.ready():\n\u001b[32m    770\u001b[39m         \u001b[38;5;28;01mraise\u001b[39;00m \u001b[38;5;167;01mTimeoutError\u001b[39;00m\n",
      "\u001b[36mFile \u001b[39m\u001b[32m/usr/lib/python3.11/multiprocessing/pool.py:765\u001b[39m, in \u001b[36mApplyResult.wait\u001b[39m\u001b[34m(self, timeout)\u001b[39m\n\u001b[32m    764\u001b[39m \u001b[38;5;28;01mdef\u001b[39;00m\u001b[38;5;250m \u001b[39m\u001b[34mwait\u001b[39m(\u001b[38;5;28mself\u001b[39m, timeout=\u001b[38;5;28;01mNone\u001b[39;00m):\n\u001b[32m--> \u001b[39m\u001b[32m765\u001b[39m     \u001b[38;5;28;43mself\u001b[39;49m\u001b[43m.\u001b[49m\u001b[43m_event\u001b[49m\u001b[43m.\u001b[49m\u001b[43mwait\u001b[49m\u001b[43m(\u001b[49m\u001b[43mtimeout\u001b[49m\u001b[43m)\u001b[49m\n",
      "\u001b[36mFile \u001b[39m\u001b[32m/usr/lib/python3.11/threading.py:622\u001b[39m, in \u001b[36mEvent.wait\u001b[39m\u001b[34m(self, timeout)\u001b[39m\n\u001b[32m    620\u001b[39m signaled = \u001b[38;5;28mself\u001b[39m._flag\n\u001b[32m    621\u001b[39m \u001b[38;5;28;01mif\u001b[39;00m \u001b[38;5;129;01mnot\u001b[39;00m signaled:\n\u001b[32m--> \u001b[39m\u001b[32m622\u001b[39m     signaled = \u001b[38;5;28;43mself\u001b[39;49m\u001b[43m.\u001b[49m\u001b[43m_cond\u001b[49m\u001b[43m.\u001b[49m\u001b[43mwait\u001b[49m\u001b[43m(\u001b[49m\u001b[43mtimeout\u001b[49m\u001b[43m)\u001b[49m\n\u001b[32m    623\u001b[39m \u001b[38;5;28;01mreturn\u001b[39;00m signaled\n",
      "\u001b[36mFile \u001b[39m\u001b[32m/usr/lib/python3.11/threading.py:320\u001b[39m, in \u001b[36mCondition.wait\u001b[39m\u001b[34m(self, timeout)\u001b[39m\n\u001b[32m    318\u001b[39m \u001b[38;5;28;01mtry\u001b[39;00m:    \u001b[38;5;66;03m# restore state no matter what (e.g., KeyboardInterrupt)\u001b[39;00m\n\u001b[32m    319\u001b[39m     \u001b[38;5;28;01mif\u001b[39;00m timeout \u001b[38;5;129;01mis\u001b[39;00m \u001b[38;5;28;01mNone\u001b[39;00m:\n\u001b[32m--> \u001b[39m\u001b[32m320\u001b[39m         \u001b[43mwaiter\u001b[49m\u001b[43m.\u001b[49m\u001b[43macquire\u001b[49m\u001b[43m(\u001b[49m\u001b[43m)\u001b[49m\n\u001b[32m    321\u001b[39m         gotit = \u001b[38;5;28;01mTrue\u001b[39;00m\n\u001b[32m    322\u001b[39m     \u001b[38;5;28;01melse\u001b[39;00m:\n",
      "\u001b[31mKeyboardInterrupt\u001b[39m: "
     ]
    }
   ],
   "source": [
    "# ##### NSGA-III ############\n",
    "from moo_algorithm.nsga_iii import run_nsga_iii\n",
    "\n",
    "nsgaiii_result_folder = Path(\"result/100customers/NSGAIII\")\n",
    "nsgaiii_result_files = [\n",
    "    nsgaiii_result_folder / (f.stem + \".json\")\n",
    "    for f in data_files\n",
    "]\n",
    "for idx, data_file in enumerate(data_files[:5]):\n",
    "    problem = problems[idx]\n",
    "    indi_list = indi_lists[idx]\n",
    "    nsgaiii_start = time.time()\n",
    "    nsgaiii_history = run_nsga_iii(processing_number, problem, indi_list, pop_size, max_gen, crossover_PMX, mutation_flip, crossover_rate, mutation_rate, cal_fitness)\n",
    "    nsgaiii_end = time.time()\n",
    "    nsgaiii_result = {}\n",
    "    nsgaiii_result['time'] = nsgaiii_end - nsgaiii_start\n",
    "    nsgaiii_result['history'] = nsgaiii_history\n",
    "    nsgaiii_path = nsgaiii_result_files[idx]\n",
    "    Path(nsgaiii_path).parent.mkdir(parents=True, exist_ok=True)\n",
    "\n",
    "    with open(nsgaiii_path, 'w') as f:\n",
    "        json.dump(nsgaiii_result, f)"
   ]
  },
  {
   "cell_type": "code",
   "execution_count": null,
   "id": "9018b521",
   "metadata": {},
   "outputs": [],
   "source": [
    "### PFG MOEA ###\n",
    "\n",
    "from moo_algorithm.pfg_moea import run_pfgmoea\n",
    "GK = 5\n",
    "sigma = 0.1\n",
    "\n",
    "pfgmoea_result_folder = Path(\"result/100customers/PFGMOEA\")\n",
    "pfgmoea_result_files = [\n",
    "    pfgmoea_result_folder / (f.stem + \".json\")\n",
    "    for f in data_files\n",
    "]\n",
    "for idx, data_file in enumerate(data_files[:5]):\n",
    "    problem = problems[idx]\n",
    "    indi_list = indi_lists[idx]\n",
    "    \n",
    "    pfgmoea_start = time.time()\n",
    "    result_pfgmoea = run_pfgmoea(processing_number, problem, indi_list, pop_size, max_gen, GK, sigma, crossover_PMX, mutation_flip, \n",
    "            crossover_rate, mutation_rate, cal_fitness)\n",
    "    pfgmoea_end = time.time()\n",
    "    pfgmoea_result = {}\n",
    "    pfgmoea_result['time'] = pfgmoea_end - pfgmoea_start\n",
    "    pfgmoea_result['history'] = result_pfgmoea\n",
    "    pfgmoea_path = pfgmoea_result_files[idx]\n",
    "    Path(pfgmoea_path).parent.mkdir(parents=True, exist_ok=True)\n",
    "    with open(pfgmoea_path, 'a') as f:\n",
    "        json.dump(pfgmoea_result, f)\n"
   ]
  }
 ],
 "metadata": {
  "kernelspec": {
   "display_name": ".env",
   "language": "python",
   "name": "python3"
  },
  "language_info": {
   "codemirror_mode": {
    "name": "ipython",
    "version": 3
   },
   "file_extension": ".py",
   "mimetype": "text/x-python",
   "name": "python",
   "nbconvert_exporter": "python",
   "pygments_lexer": "ipython3",
   "version": "3.11.2"
  }
 },
 "nbformat": 4,
 "nbformat_minor": 5
}
