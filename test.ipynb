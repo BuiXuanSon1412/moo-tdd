{
 "cells": [
  {
   "cell_type": "code",
   "execution_count": 1,
   "id": "691b470f",
   "metadata": {},
   "outputs": [
    {
     "name": "stdout",
     "output_type": "stream",
     "text": [
      "Customer(x=35, y=35, demand=0, time=0.0, service=0.0)\n",
      "Customer(x=41, y=49, demand=10, time=1.625, service=0.008333333333333333)\n",
      "Customer(x=35, y=17, demand=7, time=0.25, service=0.008333333333333333)\n",
      "Customer(x=55, y=45, demand=13, time=1.325, service=0.008333333333333333)\n",
      "Customer(x=55, y=20, demand=19, time=0.8875, service=0.008333333333333333)\n",
      "Customer(x=15, y=30, demand=26, time=0.25, service=0.008333333333333333)\n",
      "Customer(x=25, y=30, demand=3, time=0.675, service=0.008333333333333333)\n",
      "Customer(x=20, y=50, demand=5, time=0.825, service=0.008333333333333333)\n",
      "Customer(x=10, y=43, demand=9, time=0.7625, service=0.008333333333333333)\n",
      "Customer(x=55, y=60, demand=16, time=0.6625, service=0.008333333333333333)\n",
      "Customer(x=30, y=60, demand=16, time=1.2625, service=0.008333333333333333)\n",
      "Customer(x=20, y=65, demand=12, time=0.4125, service=0.008333333333333333)\n",
      "Customer(x=50, y=35, demand=19, time=0.475, service=0.008333333333333333)\n",
      "Customer(x=30, y=25, demand=23, time=0.875, service=0.008333333333333333)\n",
      "Customer(x=15, y=10, demand=20, time=0.4, service=0.008333333333333333)\n",
      "Customer(x=30, y=5, demand=8, time=0.375, service=0.008333333333333333)\n",
      "Customer(x=10, y=20, demand=19, time=0.675, service=0.008333333333333333)\n",
      "Customer(x=5, y=30, demand=2, time=0.6375, service=0.008333333333333333)\n",
      "Customer(x=20, y=40, demand=12, time=0.9625, service=0.008333333333333333)\n",
      "Customer(x=15, y=60, demand=17, time=0.6625, service=0.008333333333333333)\n",
      "Customer(x=45, y=65, demand=9, time=1.3625, service=0.008333333333333333)\n",
      "Customer(x=45, y=20, demand=11, time=0.4625, service=0.008333333333333333)\n",
      "Customer(x=45, y=10, demand=18, time=0.7375, service=0.008333333333333333)\n",
      "Customer(x=55, y=5, demand=29, time=0.45, service=0.008333333333333333)\n",
      "Customer(x=65, y=35, demand=3, time=1.475, service=0.008333333333333333)\n",
      "Customer(x=65, y=20, demand=6, time=0.5875, service=0.008333333333333333)\n",
      "Customer(x=45, y=30, demand=17, time=1.4625, service=0.008333333333333333)\n",
      "Customer(x=35, y=40, demand=16, time=0.0625, service=0.008333333333333333)\n",
      "Customer(x=41, y=37, demand=16, time=0.1, service=0.008333333333333333)\n",
      "Customer(x=64, y=42, demand=9, time=0.4625, service=0.008333333333333333)\n",
      "Customer(x=40, y=60, demand=21, time=0.35, service=0.008333333333333333)\n",
      "Customer(x=31, y=52, demand=27, time=0.3, service=0.008333333333333333)\n",
      "Customer(x=35, y=69, demand=23, time=1.45, service=0.008333333333333333)\n",
      "Customer(x=53, y=52, demand=11, time=0.3, service=0.008333333333333333)\n",
      "Customer(x=65, y=55, demand=14, time=1.25, service=0.008333333333333333)\n",
      "Customer(x=63, y=65, demand=8, time=0.625, service=0.008333333333333333)\n",
      "Customer(x=2, y=60, demand=5, time=0.5125, service=0.008333333333333333)\n",
      "Customer(x=20, y=20, demand=8, time=1.4625, service=0.008333333333333333)\n",
      "Customer(x=5, y=5, demand=16, time=0.525, service=0.008333333333333333)\n",
      "Customer(x=60, y=12, demand=31, time=0.4125, service=0.008333333333333333)\n",
      "Customer(x=40, y=25, demand=9, time=0.6375, service=0.008333333333333333)\n",
      "Customer(x=42, y=7, demand=5, time=0.55, service=0.008333333333333333)\n",
      "Customer(x=24, y=12, demand=5, time=0.3125, service=0.008333333333333333)\n",
      "Customer(x=23, y=3, demand=7, time=1.4375, service=0.008333333333333333)\n",
      "Customer(x=11, y=14, demand=18, time=0.3875, service=0.008333333333333333)\n",
      "Customer(x=6, y=38, demand=16, time=0.3625, service=0.008333333333333333)\n",
      "Customer(x=2, y=48, demand=1, time=1.1625, service=0.008333333333333333)\n",
      "Customer(x=8, y=56, demand=27, time=0.425, service=0.008333333333333333)\n",
      "Customer(x=13, y=52, demand=36, time=1.5625, service=0.008333333333333333)\n",
      "Customer(x=6, y=68, demand=30, time=1.1625, service=0.008333333333333333)\n",
      "Customer(x=47, y=47, demand=13, time=1.3125, service=0.008333333333333333)\n",
      "Customer(x=49, y=58, demand=10, time=0.825, service=0.008333333333333333)\n",
      "Customer(x=27, y=43, demand=9, time=0.3125, service=0.008333333333333333)\n",
      "Customer(x=37, y=31, demand=14, time=0.775, service=0.008333333333333333)\n",
      "Customer(x=57, y=29, demand=18, time=1.5125, service=0.008333333333333333)\n",
      "Customer(x=63, y=23, demand=2, time=0.875, service=0.008333333333333333)\n",
      "Customer(x=53, y=12, demand=6, time=1.0125, service=0.008333333333333333)\n",
      "Customer(x=32, y=12, demand=7, time=0.975, service=0.008333333333333333)\n",
      "Customer(x=36, y=26, demand=18, time=0.9875, service=0.008333333333333333)\n",
      "Customer(x=21, y=24, demand=28, time=0.2125, service=0.008333333333333333)\n",
      "Customer(x=17, y=34, demand=3, time=1.625, service=0.008333333333333333)\n",
      "Customer(x=12, y=24, demand=13, time=0.7375, service=0.008333333333333333)\n",
      "Customer(x=24, y=58, demand=19, time=0.3125, service=0.008333333333333333)\n",
      "Customer(x=27, y=69, demand=10, time=0.425, service=0.008333333333333333)\n",
      "Customer(x=15, y=77, demand=9, time=0.575, service=0.008333333333333333)\n",
      "Customer(x=62, y=77, demand=20, time=0.6125, service=0.008333333333333333)\n",
      "Customer(x=49, y=73, demand=25, time=0.9625, service=0.008333333333333333)\n",
      "Customer(x=67, y=5, demand=25, time=0.5375, service=0.008333333333333333)\n",
      "Customer(x=56, y=39, demand=36, time=1.025, service=0.008333333333333333)\n",
      "Customer(x=37, y=47, demand=6, time=0.15, service=0.008333333333333333)\n",
      "Customer(x=37, y=56, demand=5, time=0.2625, service=0.008333333333333333)\n",
      "Customer(x=57, y=68, demand=15, time=0.7125, service=0.008333333333333333)\n",
      "Customer(x=47, y=16, demand=25, time=0.275, service=0.008333333333333333)\n",
      "Customer(x=44, y=17, demand=9, time=0.75, service=0.008333333333333333)\n",
      "Customer(x=46, y=13, demand=8, time=0.9125, service=0.008333333333333333)\n",
      "Customer(x=49, y=11, demand=18, time=0.575, service=0.008333333333333333)\n",
      "Customer(x=49, y=42, demand=13, time=0.45, service=0.008333333333333333)\n",
      "Customer(x=53, y=43, demand=14, time=0.8125, service=0.008333333333333333)\n",
      "Customer(x=61, y=52, demand=3, time=0.5375, service=0.008333333333333333)\n",
      "Customer(x=57, y=48, demand=23, time=0.725, service=0.008333333333333333)\n",
      "Customer(x=56, y=37, demand=6, time=0.8625, service=0.008333333333333333)\n",
      "Customer(x=55, y=54, demand=26, time=1.0875, service=0.008333333333333333)\n",
      "Customer(x=15, y=47, demand=16, time=0.35, service=0.008333333333333333)\n",
      "Customer(x=14, y=37, demand=11, time=0.2625, service=0.008333333333333333)\n",
      "Customer(x=11, y=31, demand=7, time=0.85, service=0.008333333333333333)\n",
      "Customer(x=16, y=22, demand=41, time=0.925, service=0.008333333333333333)\n",
      "Customer(x=4, y=18, demand=35, time=0.9875, service=0.008333333333333333)\n",
      "Customer(x=28, y=18, demand=26, time=1.05, service=0.008333333333333333)\n",
      "Customer(x=26, y=52, demand=9, time=0.3, service=0.008333333333333333)\n",
      "Customer(x=26, y=35, demand=15, time=1.6, service=0.008333333333333333)\n",
      "Customer(x=31, y=67, demand=3, time=0.95, service=0.008333333333333333)\n",
      "Customer(x=15, y=19, demand=1, time=1.625, service=0.008333333333333333)\n",
      "Customer(x=22, y=22, demand=2, time=0.225, service=0.008333333333333333)\n",
      "Customer(x=18, y=24, demand=22, time=0.5125, service=0.008333333333333333)\n",
      "Customer(x=26, y=27, demand=27, time=1.1, service=0.008333333333333333)\n",
      "Customer(x=25, y=24, demand=20, time=0.175, service=0.008333333333333333)\n",
      "Customer(x=22, y=27, demand=11, time=1.4875, service=0.008333333333333333)\n",
      "Customer(x=25, y=21, demand=12, time=1.525, service=0.008333333333333333)\n",
      "Customer(x=19, y=21, demand=10, time=0.4, service=0.008333333333333333)\n",
      "Customer(x=20, y=26, demand=9, time=0.475, service=0.008333333333333333)\n",
      "Customer(x=18, y=18, demand=17, time=0.35, service=0.008333333333333333)\n"
     ]
    }
   ],
   "source": [
    "from utils import *\n",
    "from data import load_data\n",
    "\n",
    "number_customer = 100\n",
    "number_truck = 10\n",
    "number_drone = 15\n",
    "problem = load_data(r\"data\\100customers\\r110.txt\", number_customer, number_truck, number_drone)\n",
    "for customer in problem.customer_list:\n",
    "    print(customer)"
   ]
  },
  {
   "cell_type": "code",
   "execution_count": 2,
   "id": "5fe51e14",
   "metadata": {},
   "outputs": [],
   "source": [
    "# chromosome = [[85, 101, 7, 23, 102, 68, 24, 21, 34, 38, 45, 4, 80, 10, 103, 65, 94, 104, 78, 36, 35, 57, 3, 105, 46, 67, 2, 49, 106, 99, 1, 30, 25, 39, 42, 72, 29, 107, 26, 37, 50, 69, 59, 44, 71, 28, 16, 48, 108, 86, 9, 89, 109, 40, 22, 13, 51, 58, 70, 66, 32, 14, 47, 60, 110, 77, 17, 73, 100, 111, 64, 12, 61, 97, 52, 112, 43, 113, 8, 114, 95, 87, 81, 62, 98, 75, 54, 33, 31, 90, 84, 92, 115, 19, 5, 116, 20, 117, 93, 63, 53, 91, 118, 27, 6, 82, 74, 15, 119, 11, 96, 88, 120, 18, 121, 55, 76, 83, 41, 79, 122, 56, 123], [0, 0, 0, 0, 0, 0, 0, 0, 0, 0, 0, 0, 0, 0, 0, 0, 0, 0, 0, 0, 0, 0, 0, 0, 0, 0, 0, 0, 0, 0, 0, 0, 0, 0, 0, 0, 0, 0, 0, 0, 0, 0, 0, 0, 0, 0, 0, 0, 0, 0, 0, 0, 0, 0, 0, 0, 0, 0, 0, 0, 0, 0, 0, 1, 1, 1, 1, 1, 1, 1, 1, 1, 1, 1, 1, 1, 1, 1, 1, 1, 1, 1, 1, 1, 1, 1, 1, 1, 1, 1, 1, 1, 1, 1, 1, 1, 1, 1, 1, 1, 1, 1, 1, 1, 1, 1, 1, 1, 1, 1, 1, 1, 1, 1, 1, 1, 1, 1, 1, 1, 1, 1, 1]]\n",
    "# truck_routes, drone_routes = extract_routes(chromosome, problem)\n",
    "# truck_solutions, drone_solutions = find_solution(truck_routes, drone_routes, problem)\n",
    "\n",
    "# for drone_sol in drone_solutions:\n",
    "#     print(problem.check_capacity_drone_constraint(drone_sol))\n",
    "#     for drone_trip in drone_sol.trip_list:\n",
    "#         print(problem.check_energy_drone(drone_trip))"
   ]
  },
  {
   "cell_type": "code",
   "execution_count": 3,
   "id": "791c97de",
   "metadata": {},
   "outputs": [
    {
     "name": "stdout",
     "output_type": "stream",
     "text": [
      "NSGA-II Done:  0 67789129856.142624\n",
      "NSGA-II Done:  0 70001696221.18646\n",
      "NSGA-II Done:  1 71622968750.17035\n",
      "NSGA-II Done:  2 71676911550.13283\n",
      "NSGA-II Done:  3 72361772564.09221\n",
      "NSGA-II Done:  4 73681529950.34097\n",
      "NSGA-II Done:  5 74103097554.02513\n",
      "NSGA-II Done:  6 76143129326.64604\n",
      "NSGA-II Done:  7 76164680808.10857\n",
      "NSGA-II Done:  8 76464415010.46683\n",
      "NSGA-II Done:  9 76481821804.23718\n"
     ]
    },
    {
     "ename": "KeyboardInterrupt",
     "evalue": "",
     "output_type": "error",
     "traceback": [
      "\u001b[1;31m---------------------------------------------------------------------------\u001b[0m",
      "\u001b[1;31mKeyboardInterrupt\u001b[0m                         Traceback (most recent call last)",
      "Cell \u001b[1;32mIn[3], line 13\u001b[0m\n\u001b[0;32m     11\u001b[0m     indi \u001b[38;5;241m=\u001b[39m init_random(problem, pro_drone)\n\u001b[0;32m     12\u001b[0m     indi_list\u001b[38;5;241m.\u001b[39mappend(indi)\n\u001b[1;32m---> 13\u001b[0m result_nsga_ii \u001b[38;5;241m=\u001b[39m \u001b[43mrun_nsga_ii\u001b[49m\u001b[43m(\u001b[49m\u001b[43mprocessing_number\u001b[49m\u001b[43m,\u001b[49m\u001b[43m \u001b[49m\u001b[43mproblem\u001b[49m\u001b[43m,\u001b[49m\u001b[43m \u001b[49m\u001b[43mindi_list\u001b[49m\u001b[43m,\u001b[49m\u001b[43m \u001b[49m\u001b[43mpop_size\u001b[49m\u001b[43m,\u001b[49m\u001b[43m \u001b[49m\u001b[43mmax_gen\u001b[49m\u001b[43m,\u001b[49m\u001b[43m \u001b[49m\u001b[43mcrossover_PMX\u001b[49m\u001b[43m,\u001b[49m\u001b[43m \u001b[49m\u001b[43mmutation_flip\u001b[49m\u001b[43m,\u001b[49m\u001b[43m \u001b[49m\u001b[43mcrossover_rate\u001b[49m\u001b[43m,\u001b[49m\u001b[43m \u001b[49m\u001b[43mmutation_rate\u001b[49m\u001b[43m,\u001b[49m\u001b[43m \u001b[49m\u001b[43mcal_fitness\u001b[49m\u001b[43m)\u001b[49m\n",
      "File \u001b[1;32md:\\Research\\SOICT2025\\Code\\moo-tdd\\moo_algorithm\\nsga_ii.py:120\u001b[0m, in \u001b[0;36mrun_nsga_ii\u001b[1;34m(processing_number, problem, indi_list, pop_size, max_gen, crossover_operator, mutation_operator, crossover_rate, mutation_rate, cal_fitness)\u001b[0m\n\u001b[0;32m    118\u001b[0m \u001b[38;5;28;01mfor\u001b[39;00m individual \u001b[38;5;129;01min\u001b[39;00m offspring:\n\u001b[0;32m    119\u001b[0m     arg\u001b[38;5;241m.\u001b[39mappend((problem, individual))\n\u001b[1;32m--> 120\u001b[0m result \u001b[38;5;241m=\u001b[39m \u001b[43mpool\u001b[49m\u001b[38;5;241;43m.\u001b[39;49m\u001b[43mstarmap\u001b[49m\u001b[43m(\u001b[49m\u001b[43mcal_fitness\u001b[49m\u001b[43m,\u001b[49m\u001b[43m \u001b[49m\u001b[43marg\u001b[49m\u001b[43m)\u001b[49m\n\u001b[0;32m    121\u001b[0m \u001b[38;5;28;01mfor\u001b[39;00m individual, fitness \u001b[38;5;129;01min\u001b[39;00m \u001b[38;5;28mzip\u001b[39m(offspring, result):\n\u001b[0;32m    122\u001b[0m     individual\u001b[38;5;241m.\u001b[39mchromosome \u001b[38;5;241m=\u001b[39m fitness[\u001b[38;5;241m0\u001b[39m]\n",
      "File \u001b[1;32md:\\applications\\anaconda3\\Lib\\multiprocessing\\pool.py:375\u001b[0m, in \u001b[0;36mPool.starmap\u001b[1;34m(self, func, iterable, chunksize)\u001b[0m\n\u001b[0;32m    369\u001b[0m \u001b[38;5;28;01mdef\u001b[39;00m \u001b[38;5;21mstarmap\u001b[39m(\u001b[38;5;28mself\u001b[39m, func, iterable, chunksize\u001b[38;5;241m=\u001b[39m\u001b[38;5;28;01mNone\u001b[39;00m):\n\u001b[0;32m    370\u001b[0m \u001b[38;5;250m    \u001b[39m\u001b[38;5;124;03m'''\u001b[39;00m\n\u001b[0;32m    371\u001b[0m \u001b[38;5;124;03m    Like `map()` method but the elements of the `iterable` are expected to\u001b[39;00m\n\u001b[0;32m    372\u001b[0m \u001b[38;5;124;03m    be iterables as well and will be unpacked as arguments. Hence\u001b[39;00m\n\u001b[0;32m    373\u001b[0m \u001b[38;5;124;03m    `func` and (a, b) becomes func(a, b).\u001b[39;00m\n\u001b[0;32m    374\u001b[0m \u001b[38;5;124;03m    '''\u001b[39;00m\n\u001b[1;32m--> 375\u001b[0m     \u001b[38;5;28;01mreturn\u001b[39;00m \u001b[38;5;28;43mself\u001b[39;49m\u001b[38;5;241;43m.\u001b[39;49m\u001b[43m_map_async\u001b[49m\u001b[43m(\u001b[49m\u001b[43mfunc\u001b[49m\u001b[43m,\u001b[49m\u001b[43m \u001b[49m\u001b[43miterable\u001b[49m\u001b[43m,\u001b[49m\u001b[43m \u001b[49m\u001b[43mstarmapstar\u001b[49m\u001b[43m,\u001b[49m\u001b[43m \u001b[49m\u001b[43mchunksize\u001b[49m\u001b[43m)\u001b[49m\u001b[38;5;241;43m.\u001b[39;49m\u001b[43mget\u001b[49m\u001b[43m(\u001b[49m\u001b[43m)\u001b[49m\n",
      "File \u001b[1;32md:\\applications\\anaconda3\\Lib\\multiprocessing\\pool.py:768\u001b[0m, in \u001b[0;36mApplyResult.get\u001b[1;34m(self, timeout)\u001b[0m\n\u001b[0;32m    767\u001b[0m \u001b[38;5;28;01mdef\u001b[39;00m \u001b[38;5;21mget\u001b[39m(\u001b[38;5;28mself\u001b[39m, timeout\u001b[38;5;241m=\u001b[39m\u001b[38;5;28;01mNone\u001b[39;00m):\n\u001b[1;32m--> 768\u001b[0m     \u001b[38;5;28;43mself\u001b[39;49m\u001b[38;5;241;43m.\u001b[39;49m\u001b[43mwait\u001b[49m\u001b[43m(\u001b[49m\u001b[43mtimeout\u001b[49m\u001b[43m)\u001b[49m\n\u001b[0;32m    769\u001b[0m     \u001b[38;5;28;01mif\u001b[39;00m \u001b[38;5;129;01mnot\u001b[39;00m \u001b[38;5;28mself\u001b[39m\u001b[38;5;241m.\u001b[39mready():\n\u001b[0;32m    770\u001b[0m         \u001b[38;5;28;01mraise\u001b[39;00m \u001b[38;5;167;01mTimeoutError\u001b[39;00m\n",
      "File \u001b[1;32md:\\applications\\anaconda3\\Lib\\multiprocessing\\pool.py:765\u001b[0m, in \u001b[0;36mApplyResult.wait\u001b[1;34m(self, timeout)\u001b[0m\n\u001b[0;32m    764\u001b[0m \u001b[38;5;28;01mdef\u001b[39;00m \u001b[38;5;21mwait\u001b[39m(\u001b[38;5;28mself\u001b[39m, timeout\u001b[38;5;241m=\u001b[39m\u001b[38;5;28;01mNone\u001b[39;00m):\n\u001b[1;32m--> 765\u001b[0m     \u001b[38;5;28;43mself\u001b[39;49m\u001b[38;5;241;43m.\u001b[39;49m\u001b[43m_event\u001b[49m\u001b[38;5;241;43m.\u001b[39;49m\u001b[43mwait\u001b[49m\u001b[43m(\u001b[49m\u001b[43mtimeout\u001b[49m\u001b[43m)\u001b[49m\n",
      "File \u001b[1;32md:\\applications\\anaconda3\\Lib\\threading.py:655\u001b[0m, in \u001b[0;36mEvent.wait\u001b[1;34m(self, timeout)\u001b[0m\n\u001b[0;32m    653\u001b[0m signaled \u001b[38;5;241m=\u001b[39m \u001b[38;5;28mself\u001b[39m\u001b[38;5;241m.\u001b[39m_flag\n\u001b[0;32m    654\u001b[0m \u001b[38;5;28;01mif\u001b[39;00m \u001b[38;5;129;01mnot\u001b[39;00m signaled:\n\u001b[1;32m--> 655\u001b[0m     signaled \u001b[38;5;241m=\u001b[39m \u001b[38;5;28;43mself\u001b[39;49m\u001b[38;5;241;43m.\u001b[39;49m\u001b[43m_cond\u001b[49m\u001b[38;5;241;43m.\u001b[39;49m\u001b[43mwait\u001b[49m\u001b[43m(\u001b[49m\u001b[43mtimeout\u001b[49m\u001b[43m)\u001b[49m\n\u001b[0;32m    656\u001b[0m \u001b[38;5;28;01mreturn\u001b[39;00m signaled\n",
      "File \u001b[1;32md:\\applications\\anaconda3\\Lib\\threading.py:355\u001b[0m, in \u001b[0;36mCondition.wait\u001b[1;34m(self, timeout)\u001b[0m\n\u001b[0;32m    353\u001b[0m \u001b[38;5;28;01mtry\u001b[39;00m:    \u001b[38;5;66;03m# restore state no matter what (e.g., KeyboardInterrupt)\u001b[39;00m\n\u001b[0;32m    354\u001b[0m     \u001b[38;5;28;01mif\u001b[39;00m timeout \u001b[38;5;129;01mis\u001b[39;00m \u001b[38;5;28;01mNone\u001b[39;00m:\n\u001b[1;32m--> 355\u001b[0m         \u001b[43mwaiter\u001b[49m\u001b[38;5;241;43m.\u001b[39;49m\u001b[43macquire\u001b[49m\u001b[43m(\u001b[49m\u001b[43m)\u001b[49m\n\u001b[0;32m    356\u001b[0m         gotit \u001b[38;5;241m=\u001b[39m \u001b[38;5;28;01mTrue\u001b[39;00m\n\u001b[0;32m    357\u001b[0m     \u001b[38;5;28;01melse\u001b[39;00m:\n",
      "\u001b[1;31mKeyboardInterrupt\u001b[0m: "
     ]
    }
   ],
   "source": [
    "processing_number = 1\n",
    "from moo_algorithm.nsga_ii import run_nsga_ii\n",
    "# from utils import crossover_PMX, mutation_flip, init_random\n",
    "pro_drone = 0.7\n",
    "pop_size = 100\n",
    "max_gen = 100\n",
    "crossover_rate = 0.8\n",
    "mutation_rate = 0.7\n",
    "indi_list = []\n",
    "for i in range(pop_size):\n",
    "    indi = init_random(problem, pro_drone)\n",
    "    indi_list.append(indi)\n",
    "result_nsga_ii = run_nsga_ii(processing_number, problem, indi_list, pop_size, max_gen, crossover_PMX, mutation_flip, crossover_rate, mutation_rate, cal_fitness)"
   ]
  },
  {
   "cell_type": "code",
   "execution_count": null,
   "id": "9018b521",
   "metadata": {},
   "outputs": [
    {
     "name": "stdout",
     "output_type": "stream",
     "text": [
      "PFG MOEA\n",
      "Generation 0:  0.0\n",
      "Generation 1:  99128727.97902063\n",
      "Generation 2:  99128727.97902063\n",
      "Generation 3:  99128727.97902063\n",
      "Generation 4:  1120939229.9879274\n",
      "Generation 5:  1120939229.9879274\n",
      "Generation 6:  1184933540.722226\n"
     ]
    },
    {
     "ename": "KeyboardInterrupt",
     "evalue": "",
     "output_type": "error",
     "traceback": [
      "\u001b[1;31m---------------------------------------------------------------------------\u001b[0m",
      "\u001b[1;31mKeyboardInterrupt\u001b[0m                         Traceback (most recent call last)",
      "Cell \u001b[1;32mIn[7], line 5\u001b[0m\n\u001b[0;32m      2\u001b[0m GK \u001b[38;5;241m=\u001b[39m \u001b[38;5;241m5\u001b[39m\n\u001b[0;32m      3\u001b[0m sigma \u001b[38;5;241m=\u001b[39m \u001b[38;5;241m0.1\u001b[39m\n\u001b[1;32m----> 5\u001b[0m result_pfgmoea \u001b[38;5;241m=\u001b[39m \u001b[43mrun_pfgmoea\u001b[49m\u001b[43m(\u001b[49m\u001b[43mprocessing_number\u001b[49m\u001b[43m,\u001b[49m\u001b[43m \u001b[49m\u001b[43mproblem\u001b[49m\u001b[43m,\u001b[49m\u001b[43m \u001b[49m\u001b[43mindi_list\u001b[49m\u001b[43m,\u001b[49m\u001b[43m \u001b[49m\u001b[43mpop_size\u001b[49m\u001b[43m,\u001b[49m\u001b[43m \u001b[49m\u001b[43mmax_gen\u001b[49m\u001b[43m,\u001b[49m\u001b[43m \u001b[49m\u001b[43mGK\u001b[49m\u001b[43m,\u001b[49m\u001b[43m \u001b[49m\u001b[43msigma\u001b[49m\u001b[43m,\u001b[49m\u001b[43m \u001b[49m\u001b[43mcrossover_PMX\u001b[49m\u001b[43m,\u001b[49m\u001b[43m \u001b[49m\u001b[43mmutation_flip\u001b[49m\u001b[43m,\u001b[49m\u001b[43m \u001b[49m\n\u001b[0;32m      6\u001b[0m \u001b[43m            \u001b[49m\u001b[43mcrossover_rate\u001b[49m\u001b[43m,\u001b[49m\u001b[43m \u001b[49m\u001b[43mmutation_rate\u001b[49m\u001b[43m,\u001b[49m\u001b[43m \u001b[49m\u001b[43mcal_fitness\u001b[49m\u001b[43m)\u001b[49m\n",
      "File \u001b[1;32md:\\Research\\SOICT2025\\Code\\moo-tdd\\moo_algorithm\\pfg_moea.py:194\u001b[0m, in \u001b[0;36mrun_pfgmoea\u001b[1;34m(processing_number, problem, indi_list, pop_size, max_gen, GK, sigma, crossover_operator, mutation_operator, crossover_rate, mutation_rate, cal_fitness)\u001b[0m\n\u001b[0;32m    192\u001b[0m \u001b[38;5;28;01mfor\u001b[39;00m individual \u001b[38;5;129;01min\u001b[39;00m offspring:\n\u001b[0;32m    193\u001b[0m     arg\u001b[38;5;241m.\u001b[39mappend((problem, individual))\n\u001b[1;32m--> 194\u001b[0m result \u001b[38;5;241m=\u001b[39m \u001b[43mpool\u001b[49m\u001b[38;5;241;43m.\u001b[39;49m\u001b[43mstarmap\u001b[49m\u001b[43m(\u001b[49m\u001b[43mcal_fitness\u001b[49m\u001b[43m,\u001b[49m\u001b[43m \u001b[49m\u001b[43marg\u001b[49m\u001b[43m)\u001b[49m\n\u001b[0;32m    195\u001b[0m \u001b[38;5;28;01mfor\u001b[39;00m individual, fitness \u001b[38;5;129;01min\u001b[39;00m \u001b[38;5;28mzip\u001b[39m(offspring, result):\n\u001b[0;32m    196\u001b[0m     individual\u001b[38;5;241m.\u001b[39mchromosome \u001b[38;5;241m=\u001b[39m fitness[\u001b[38;5;241m0\u001b[39m]\n",
      "File \u001b[1;32md:\\applications\\anaconda3\\Lib\\multiprocessing\\pool.py:375\u001b[0m, in \u001b[0;36mPool.starmap\u001b[1;34m(self, func, iterable, chunksize)\u001b[0m\n\u001b[0;32m    369\u001b[0m \u001b[38;5;28;01mdef\u001b[39;00m \u001b[38;5;21mstarmap\u001b[39m(\u001b[38;5;28mself\u001b[39m, func, iterable, chunksize\u001b[38;5;241m=\u001b[39m\u001b[38;5;28;01mNone\u001b[39;00m):\n\u001b[0;32m    370\u001b[0m \u001b[38;5;250m    \u001b[39m\u001b[38;5;124;03m'''\u001b[39;00m\n\u001b[0;32m    371\u001b[0m \u001b[38;5;124;03m    Like `map()` method but the elements of the `iterable` are expected to\u001b[39;00m\n\u001b[0;32m    372\u001b[0m \u001b[38;5;124;03m    be iterables as well and will be unpacked as arguments. Hence\u001b[39;00m\n\u001b[0;32m    373\u001b[0m \u001b[38;5;124;03m    `func` and (a, b) becomes func(a, b).\u001b[39;00m\n\u001b[0;32m    374\u001b[0m \u001b[38;5;124;03m    '''\u001b[39;00m\n\u001b[1;32m--> 375\u001b[0m     \u001b[38;5;28;01mreturn\u001b[39;00m \u001b[38;5;28;43mself\u001b[39;49m\u001b[38;5;241;43m.\u001b[39;49m\u001b[43m_map_async\u001b[49m\u001b[43m(\u001b[49m\u001b[43mfunc\u001b[49m\u001b[43m,\u001b[49m\u001b[43m \u001b[49m\u001b[43miterable\u001b[49m\u001b[43m,\u001b[49m\u001b[43m \u001b[49m\u001b[43mstarmapstar\u001b[49m\u001b[43m,\u001b[49m\u001b[43m \u001b[49m\u001b[43mchunksize\u001b[49m\u001b[43m)\u001b[49m\u001b[38;5;241;43m.\u001b[39;49m\u001b[43mget\u001b[49m\u001b[43m(\u001b[49m\u001b[43m)\u001b[49m\n",
      "File \u001b[1;32md:\\applications\\anaconda3\\Lib\\multiprocessing\\pool.py:768\u001b[0m, in \u001b[0;36mApplyResult.get\u001b[1;34m(self, timeout)\u001b[0m\n\u001b[0;32m    767\u001b[0m \u001b[38;5;28;01mdef\u001b[39;00m \u001b[38;5;21mget\u001b[39m(\u001b[38;5;28mself\u001b[39m, timeout\u001b[38;5;241m=\u001b[39m\u001b[38;5;28;01mNone\u001b[39;00m):\n\u001b[1;32m--> 768\u001b[0m     \u001b[38;5;28;43mself\u001b[39;49m\u001b[38;5;241;43m.\u001b[39;49m\u001b[43mwait\u001b[49m\u001b[43m(\u001b[49m\u001b[43mtimeout\u001b[49m\u001b[43m)\u001b[49m\n\u001b[0;32m    769\u001b[0m     \u001b[38;5;28;01mif\u001b[39;00m \u001b[38;5;129;01mnot\u001b[39;00m \u001b[38;5;28mself\u001b[39m\u001b[38;5;241m.\u001b[39mready():\n\u001b[0;32m    770\u001b[0m         \u001b[38;5;28;01mraise\u001b[39;00m \u001b[38;5;167;01mTimeoutError\u001b[39;00m\n",
      "File \u001b[1;32md:\\applications\\anaconda3\\Lib\\multiprocessing\\pool.py:765\u001b[0m, in \u001b[0;36mApplyResult.wait\u001b[1;34m(self, timeout)\u001b[0m\n\u001b[0;32m    764\u001b[0m \u001b[38;5;28;01mdef\u001b[39;00m \u001b[38;5;21mwait\u001b[39m(\u001b[38;5;28mself\u001b[39m, timeout\u001b[38;5;241m=\u001b[39m\u001b[38;5;28;01mNone\u001b[39;00m):\n\u001b[1;32m--> 765\u001b[0m     \u001b[38;5;28;43mself\u001b[39;49m\u001b[38;5;241;43m.\u001b[39;49m\u001b[43m_event\u001b[49m\u001b[38;5;241;43m.\u001b[39;49m\u001b[43mwait\u001b[49m\u001b[43m(\u001b[49m\u001b[43mtimeout\u001b[49m\u001b[43m)\u001b[49m\n",
      "File \u001b[1;32md:\\applications\\anaconda3\\Lib\\threading.py:655\u001b[0m, in \u001b[0;36mEvent.wait\u001b[1;34m(self, timeout)\u001b[0m\n\u001b[0;32m    653\u001b[0m signaled \u001b[38;5;241m=\u001b[39m \u001b[38;5;28mself\u001b[39m\u001b[38;5;241m.\u001b[39m_flag\n\u001b[0;32m    654\u001b[0m \u001b[38;5;28;01mif\u001b[39;00m \u001b[38;5;129;01mnot\u001b[39;00m signaled:\n\u001b[1;32m--> 655\u001b[0m     signaled \u001b[38;5;241m=\u001b[39m \u001b[38;5;28;43mself\u001b[39;49m\u001b[38;5;241;43m.\u001b[39;49m\u001b[43m_cond\u001b[49m\u001b[38;5;241;43m.\u001b[39;49m\u001b[43mwait\u001b[49m\u001b[43m(\u001b[49m\u001b[43mtimeout\u001b[49m\u001b[43m)\u001b[49m\n\u001b[0;32m    656\u001b[0m \u001b[38;5;28;01mreturn\u001b[39;00m signaled\n",
      "File \u001b[1;32md:\\applications\\anaconda3\\Lib\\threading.py:355\u001b[0m, in \u001b[0;36mCondition.wait\u001b[1;34m(self, timeout)\u001b[0m\n\u001b[0;32m    353\u001b[0m \u001b[38;5;28;01mtry\u001b[39;00m:    \u001b[38;5;66;03m# restore state no matter what (e.g., KeyboardInterrupt)\u001b[39;00m\n\u001b[0;32m    354\u001b[0m     \u001b[38;5;28;01mif\u001b[39;00m timeout \u001b[38;5;129;01mis\u001b[39;00m \u001b[38;5;28;01mNone\u001b[39;00m:\n\u001b[1;32m--> 355\u001b[0m         \u001b[43mwaiter\u001b[49m\u001b[38;5;241;43m.\u001b[39;49m\u001b[43macquire\u001b[49m\u001b[43m(\u001b[49m\u001b[43m)\u001b[49m\n\u001b[0;32m    356\u001b[0m         gotit \u001b[38;5;241m=\u001b[39m \u001b[38;5;28;01mTrue\u001b[39;00m\n\u001b[0;32m    357\u001b[0m     \u001b[38;5;28;01melse\u001b[39;00m:\n",
      "\u001b[1;31mKeyboardInterrupt\u001b[0m: "
     ]
    }
   ],
   "source": [
    "from moo_algorithm.pfg_moea import run_pfgmoea\n",
    "GK = 5\n",
    "sigma = 0.1\n",
    "\n",
    "result_pfgmoea = run_pfgmoea(processing_number, problem, indi_list, pop_size, max_gen, GK, sigma, crossover_PMX, mutation_flip, \n",
    "            crossover_rate, mutation_rate, cal_fitness)"
   ]
  }
 ],
 "metadata": {
  "kernelspec": {
   "display_name": "base",
   "language": "python",
   "name": "python3"
  },
  "language_info": {
   "codemirror_mode": {
    "name": "ipython",
    "version": 3
   },
   "file_extension": ".py",
   "mimetype": "text/x-python",
   "name": "python",
   "nbconvert_exporter": "python",
   "pygments_lexer": "ipython3",
   "version": "3.12.7"
  }
 },
 "nbformat": 4,
 "nbformat_minor": 5
}
